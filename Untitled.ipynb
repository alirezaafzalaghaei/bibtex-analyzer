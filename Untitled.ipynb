{
 "cells": [
  {
   "cell_type": "code",
   "execution_count": 45,
   "metadata": {},
   "outputs": [],
   "source": [
    "import sys, os\n",
    "import collections\n",
    "from itertools import groupby\n",
    "from pybtex.database.input import bibtex\n",
    "from collections import Counter\n",
    "import requests\n",
    "from bs4 import BeautifulSoup"
   ]
  },
  {
   "cell_type": "code",
   "execution_count": 46,
   "metadata": {},
   "outputs": [],
   "source": [
    "parser = bibtex.Parser()\n",
    "\n",
    "bib_data = parser.parse_file('/home/conficker/tmp/solving-ie-using-svm/maple/integral-equation-article/article-fredholm/tex/references.bib')"
   ]
  },
  {
   "cell_type": "code",
   "execution_count": 47,
   "metadata": {},
   "outputs": [],
   "source": [
    "def get_info(page_url):\n",
    "    html = requests.get(page_url,headers=headers)\n",
    "    data = html.content.decode('utf-8')\n",
    "    soup = BeautifulSoup(data,'lxml')\n",
    "    hindex = int(soup.find(\"div\", {\"class\": \"hindexnumber\"}).text)\n",
    "    issn = soup.find('td',string='ISSN')\n",
    "    issn = issn.find_next_sibling('td').text\n",
    "    return {'hindex':hindex, 'issn':issn}"
   ]
  },
  {
   "cell_type": "code",
   "execution_count": 48,
   "metadata": {},
   "outputs": [
    {
     "name": "stdout",
     "output_type": "stream",
     "text": [
      "inproceedings\n",
      "inproceedings\n"
     ]
    }
   ],
   "source": [
    "res = []\n",
    "for item in bib_data.entries.items():\n",
    "    if 'journal' in item[1].fields:\n",
    "        res.append((item[0],item[1].fields['journal'].lower()))\n",
    "    elif 'publisher' in item[1].fields:\n",
    "        #res.append((item[0],item[1].fields['publisher']))\n",
    "        pass\n",
    "    else:\n",
    "        pass\n",
    "        print(item[1].type)"
   ]
  },
  {
   "cell_type": "code",
   "execution_count": 49,
   "metadata": {},
   "outputs": [],
   "source": [
    "cnt = Counter(map(lambda x:x[1],res))"
   ]
  },
  {
   "cell_type": "code",
   "execution_count": 50,
   "metadata": {
    "scrolled": false
   },
   "outputs": [],
   "source": [
    "cnt_srt = sorted(cnt.items(),key=lambda t:t[::-1])"
   ]
  },
  {
   "cell_type": "code",
   "execution_count": 55,
   "metadata": {
    "scrolled": false
   },
   "outputs": [
    {
     "name": "stdout",
     "output_type": "stream",
     "text": [
      "01 010 afrika matematika\n",
      "01 085 applied mathematical modelling\n",
      "01 063 applied numerical mathematics\n",
      "01 221 automatica\n",
      "01 054 computing in science \\& engineering\n",
      "01 054 ieee journal of selected topics in applied earth observations and remote sensing\n",
      "01 162 ieee transactions on antennas and propagation\n",
      "01 169 ieee transactions on neural networks and learning systems\n",
      "01 105 ieee transactions on systems, man, and cybernetics: systems\n",
      "01 038 international journal of computer mathematics\n",
      "01 088 international journal of electrical power \\& energy systems\n",
      "01 094 inverse problems\n",
      "01 000 iranian journal of numerical analysis and optimization\n",
      "01 103 journal of engineering mechanics\n",
      "01 023 journal of industrial \\& management optimization\n",
      "01 023 journal of industrial and management optimization\n",
      "01 074 journal of thermal analysis and calorimetry\n",
      "01 058 journal of thermophysics and heat transfer\n",
      "01 160 machine learning\n",
      "01 044 mathematical problems in engineering\n",
      "01 043 neural processing letters\n",
      "01 100 neurocomputing\n",
      "01 040 procedia engineering\n",
      "01 011 thai journal of mathematics\n",
      "02 087 communications in nonlinear science and numerical simulation\n",
      "02 205 journal of computational physics\n",
      "04 100 journal of computational and applied mathematics\n",
      "06 117 applied mathematics and computation\n"
     ]
    }
   ],
   "source": [
    "HINDEXs = []\n",
    "path = 'https://www.scimagojr.com/journalsearch.php?q='\n",
    "headers = {'User-Agent': 'Mozilla/5.0 (Macintosh; Intel Mac OS X 10_10_1) AppleWebKit/537.36 (KHTML, like Gecko) Chrome/39.0.2171.95 Safari/537.36'}\n",
    "\n",
    "for cnt in cnt_srt:\n",
    "    \n",
    "    search = cnt[0].replace(' ','+').replace('\\\\&','and')\n",
    "    \n",
    "    html = requests.get(path + search,headers=headers)\n",
    "    data = html.content.decode('utf-8')\n",
    "    soup = BeautifulSoup(data)\n",
    "    results = soup.find(\"div\", {\"class\": \"search_results\"}).findAll('a')\n",
    "    url = 'https://www.scimagojr.com/'\n",
    "    index = 0\n",
    "#     try:\n",
    "    for link in results:            \n",
    "        title = link.find('span',{'class':'jrnlname'}).text\n",
    "        href = link['href']\n",
    "        if cnt[0].replace('\\\\&','and').lower() in title.lower():\n",
    "            info = get_info(url+href)            \n",
    "            index = info['hindex']\n",
    "            break\n",
    "#     except:\n",
    "#         pass\n",
    "    print(\"%02d %03d %s\"%(cnt[1],index,cnt[0]))\n",
    "    HINDEXs.append((cnt[1],index,cnt[0]))"
   ]
  },
  {
   "cell_type": "code",
   "execution_count": 56,
   "metadata": {
    "scrolled": false
   },
   "outputs": [
    {
     "name": "stdout",
     "output_type": "stream",
     "text": [
      "06 117 applied mathematics and computation\n",
      "04 100 journal of computational and applied mathematics\n",
      "02 087 communications in nonlinear science and numerical simulation\n",
      "02 205 journal of computational physics\n",
      "01 010 afrika matematika\n",
      "01 085 applied mathematical modelling\n",
      "01 063 applied numerical mathematics\n",
      "01 221 automatica\n",
      "01 054 computing in science \\& engineering\n",
      "01 054 ieee journal of selected topics in applied earth observations and remote sensing\n",
      "01 162 ieee transactions on antennas and propagation\n",
      "01 169 ieee transactions on neural networks and learning systems\n",
      "01 105 ieee transactions on systems, man, and cybernetics: systems\n",
      "01 038 international journal of computer mathematics\n",
      "01 088 international journal of electrical power \\& energy systems\n",
      "01 094 inverse problems\n",
      "01 000 iranian journal of numerical analysis and optimization\n",
      "01 103 journal of engineering mechanics\n",
      "01 023 journal of industrial \\& management optimization\n",
      "01 023 journal of industrial and management optimization\n",
      "01 074 journal of thermal analysis and calorimetry\n",
      "01 058 journal of thermophysics and heat transfer\n",
      "01 160 machine learning\n",
      "01 044 mathematical problems in engineering\n",
      "01 043 neural processing letters\n",
      "01 100 neurocomputing\n",
      "01 040 procedia engineering\n",
      "01 011 thai journal of mathematics\n"
     ]
    }
   ],
   "source": [
    "for a,b,c in sorted(HINDEXs,key=lambda x:x[0],reverse=True):\n",
    "   print(\"%02d %03d %s\"%(a,b,c))"
   ]
  },
  {
   "cell_type": "code",
   "execution_count": 57,
   "metadata": {
    "scrolled": false
   },
   "outputs": [
    {
     "name": "stdout",
     "output_type": "stream",
     "text": [
      "01 221 automatica\n",
      "02 205 journal of computational physics\n",
      "01 169 ieee transactions on neural networks and learning systems\n",
      "01 162 ieee transactions on antennas and propagation\n",
      "01 160 machine learning\n",
      "06 117 applied mathematics and computation\n",
      "01 105 ieee transactions on systems, man, and cybernetics: systems\n",
      "01 103 journal of engineering mechanics\n",
      "01 100 neurocomputing\n",
      "04 100 journal of computational and applied mathematics\n",
      "01 094 inverse problems\n",
      "01 088 international journal of electrical power \\& energy systems\n",
      "02 087 communications in nonlinear science and numerical simulation\n",
      "01 085 applied mathematical modelling\n",
      "01 074 journal of thermal analysis and calorimetry\n",
      "01 063 applied numerical mathematics\n",
      "01 058 journal of thermophysics and heat transfer\n",
      "01 054 computing in science \\& engineering\n",
      "01 054 ieee journal of selected topics in applied earth observations and remote sensing\n",
      "01 044 mathematical problems in engineering\n",
      "01 043 neural processing letters\n",
      "01 040 procedia engineering\n",
      "01 038 international journal of computer mathematics\n",
      "01 023 journal of industrial \\& management optimization\n",
      "01 023 journal of industrial and management optimization\n",
      "01 011 thai journal of mathematics\n",
      "01 010 afrika matematika\n",
      "01 000 iranian journal of numerical analysis and optimization\n"
     ]
    }
   ],
   "source": [
    "for a,b,c in sorted(HINDEXs,key=lambda x:x[1],reverse=True):\n",
    "   print(\"%02d %03d %s\"%(a,b,c))"
   ]
  },
  {
   "cell_type": "code",
   "execution_count": null,
   "metadata": {},
   "outputs": [],
   "source": []
  }
 ],
 "metadata": {
  "kernelspec": {
   "display_name": "Python 3",
   "language": "python",
   "name": "python3"
  },
  "language_info": {
   "codemirror_mode": {
    "name": "ipython",
    "version": 3
   },
   "file_extension": ".py",
   "mimetype": "text/x-python",
   "name": "python",
   "nbconvert_exporter": "python",
   "pygments_lexer": "ipython3",
   "version": "3.7.3"
  }
 },
 "nbformat": 4,
 "nbformat_minor": 2
}
